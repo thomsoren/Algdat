{
 "cells": [
  {
   "cell_type": "code",
   "execution_count": 20,
   "metadata": {},
   "outputs": [
    {
     "name": "stdout",
     "output_type": "stream",
     "text": [
      "[(2, 's'), (3, 's'), (4, 's'), (5, 's'), (6, 's'), (7, 's'), (8, 's'), (9, 's'), (10, 's'), (11, 's'), (12, 's'), (13, 's'), (14, 's'), (2, 'h'), (3, 'h'), (4, 'h'), (5, 'h'), (6, 'h'), (7, 'h'), (8, 'h'), (9, 'h'), (10, 'h'), (11, 'h'), (12, 'h'), (13, 'h'), (14, 'h'), (2, 'd'), (3, 'd'), (4, 'd'), (5, 'd'), (6, 'd'), (7, 'd'), (8, 'd'), (9, 'd'), (10, 'd'), (11, 'd'), (12, 'd'), (13, 'd'), (14, 'd'), (2, 'c'), (3, 'c'), (4, 'c'), (5, 'c'), (6, 'c'), (7, 'c'), (8, 'c'), (9, 'c'), (10, 'c'), (11, 'c'), (12, 'c'), (13, 'c'), (14, 'c')]\n"
     ]
    }
   ],
   "source": [
    "def new_deck():\n",
    "    letters = [\"s\",\"h\",\"d\",\"c\"]\n",
    "    deck = []\n",
    "    for letter in letters:\n",
    "        for i in range(2,15):\n",
    "            deck.append((i, letter))\n",
    "    return deck\n",
    "\n",
    "print(new_deck())\n",
    "\n",
    "deck_of_cards = new_deck()"
   ]
  },
  {
   "cell_type": "code",
   "execution_count": 21,
   "metadata": {},
   "outputs": [
    {
     "name": "stdout",
     "output_type": "stream",
     "text": [
      "[(13, 'c'), (12, 's'), (14, 'h'), (3, 'c'), (2, 'd'), (4, 'c'), (10, 'h'), (13, 's'), (2, 'h'), (7, 'c'), (8, 'd'), (8, 'h'), (11, 'd'), (10, 'd'), (11, 'c'), (7, 'd'), (4, 'd'), (13, 'd'), (14, 's'), (14, 'c'), (3, 'h'), (10, 's'), (6, 'h'), (9, 'd'), (2, 's'), (6, 'd'), (6, 'c'), (7, 's'), (11, 'h'), (4, 'h'), (6, 's'), (9, 'c'), (9, 'h'), (5, 'c'), (2, 'c'), (11, 's'), (3, 's'), (13, 'h'), (14, 'd'), (9, 's'), (5, 's'), (12, 'h'), (5, 'h'), (5, 'd'), (12, 'c'), (8, 'c'), (3, 'd'), (4, 's'), (7, 'h'), (12, 'd'), (10, 'c'), (8, 's')]\n"
     ]
    }
   ],
   "source": [
    "import random\n",
    "def shuffle(liste):\n",
    "    random.shuffle(liste)\n",
    "    new_list = liste\n",
    "    return new_list\n",
    "\n",
    "print(shuffle(deck_of_cards))"
   ]
  },
  {
   "cell_type": "code",
   "execution_count": 22,
   "metadata": {},
   "outputs": [
    {
     "name": "stdout",
     "output_type": "stream",
     "text": [
      "6\n"
     ]
    }
   ],
   "source": [
    "def check_values(play):\n",
    "    card1 = play[0]\n",
    "    card2 = play[1]\n",
    "    card3 = play[2]\n",
    "\n",
    "    if card1[0] == card2[0] and card1[0] == card3[0]:\n",
    "        return 5\n",
    "    elif card1[0] < card2[0] and card2[0] < card3[0]:\n",
    "        return 4\n",
    "    elif card1[0] == card3[0] or card2[0] == card3[0]:\n",
    "        return 2\n",
    "    else:\n",
    "        return 1\n",
    "\n",
    "\n",
    "\n",
    "def check_suits(play):\n",
    "    card1 = play[0]\n",
    "    card2 = play[1]\n",
    "    card3 = play[2]\n",
    "\n",
    "    if card1[1] == card2[1] and card1[1] == card3[1]:\n",
    "        return 3\n",
    "    else: \n",
    "\n",
    "        return 1\n",
    "    \n",
    "def evaluate_play(play):\n",
    "    values = check_values(play)\n",
    "    suits = check_suits(play)\n",
    "\n",
    "    if values == 4 and suits == 3:\n",
    "        return 6\n",
    "    elif values > suits:\n",
    "        return values\n",
    "    else:\n",
    "        return suits\n",
    "    \n",
    "\n",
    "play = [(4,'s'), (5,'s'),(6, 's')]\n",
    "\n",
    "print(evaluate_play(play))\n",
    "\n",
    "    "
   ]
  },
  {
   "cell_type": "code",
   "execution_count": 23,
   "metadata": {},
   "outputs": [
    {
     "name": "stdout",
     "output_type": "stream",
     "text": [
      "[(7, 'c'), (9, 'c'), (4, 'c')]\n",
      "[(4, 's'), (6, 'h')]\n"
     ]
    }
   ],
   "source": [
    "def computer_play(hand):\n",
    "    best_play = create_play_hand(hand)\n",
    "    copy_hand = hand\n",
    "    for card in hand[:]:\n",
    "        if card in best_play:\n",
    "            hand.remove(card)\n",
    "    return best_play\n",
    "\n",
    "def create_play_hand(hand):\n",
    "    best_play = []\n",
    "    combinations = [123, 124, 125, 134, 135, 145, 234, 235, 245, 345]\n",
    "\n",
    "    highest = 0\n",
    "    for combination in combinations:\n",
    "        play = []\n",
    "        for num in str(combination):\n",
    "            play.append(hand[int(num)-1])            \n",
    "        score = evaluate_play(play)\n",
    "        if score > highest:\n",
    "            highest = score\n",
    "            best_play = play\n",
    "    return best_play\n",
    "\n",
    "\n",
    "hand1 = [(7, 'c'), (4, 's'), (9, 'c'), (4, 'c'), (6, 'h')]\n",
    "\n",
    "print(computer_play(hand1))\n",
    "\n",
    "\n",
    "print(hand1)"
   ]
  },
  {
   "cell_type": "code",
   "execution_count": 24,
   "metadata": {},
   "outputs": [
    {
     "name": "stdout",
     "output_type": "stream",
     "text": [
      "Feil antall kort. Prøv på nytt!\n"
     ]
    },
    {
     "data": {
      "text/plain": [
       "[(7, 'c'), (4, 's'), (9, 'c')]"
      ]
     },
     "execution_count": 24,
     "metadata": {},
     "output_type": "execute_result"
    }
   ],
   "source": [
    "def human_play(hand):\n",
    "    kort = \"\"\n",
    "    for num, sym in hand:\n",
    "        kort += f\" {num}{sym}\"\n",
    "\n",
    "    chosen = []\n",
    "    while True:\n",
    "        ans = input(f\"Dine kort på hånden er{kort}. Velg kort: \")\n",
    "        chosen = ans.split(\" \")\n",
    "        if (len(chosen) != 3):\n",
    "            print(\"Feil antall kort. Prøv på nytt!\")\n",
    "        else:\n",
    "            cards = []\n",
    "            for index in chosen:\n",
    "                card = hand[int(index)-1]\n",
    "                cards.append(card)\n",
    "            return cards\n",
    "    \n",
    "    \n",
    "    \n",
    "\n",
    "hand1 = [(7, 'c'), (4, 's'), (9, 'c'), (4, 'c'), (6, 'h')]   \n",
    "human_play(hand1)"
   ]
  },
  {
   "cell_type": "code",
   "execution_count": 25,
   "metadata": {},
   "outputs": [
    {
     "name": "stdout",
     "output_type": "stream",
     "text": [
      "[(14, 'c'), (14, 's'), (14, 'd'), (10, 's'), (4, 's'), (3, 'h'), (11, 'd'), (10, 'd'), (9, 'd'), (7, 'c'), (9, 'c'), (4, 'c'), (2, 'h'), (12, 'c'), (8, 'c'), (13, 'c'), (12, 'h'), (6, 'c')]\n",
      "\n"
     ]
    }
   ],
   "source": [
    "def update_winner(won_cards, winner_play, loser_play, war_cards):\n",
    "    for i in range(len(winner_play)):\n",
    "        won_cards.append(winner_play[i])\n",
    "\n",
    "    for i in range(len(loser_play)):\n",
    "        won_cards.append(loser_play[i])\n",
    "        \n",
    "    while war_cards:\n",
    "        war_card = war_cards[0]\n",
    "        war_cards.remove(war_card)\n",
    "        won_cards.append(war_card)\n",
    "    \n",
    "c_won = [(14, 'c'), (14, 's'), (14, 'd'), (10, 's'), (4, 's'), (3, 'h')]\n",
    "c_play = [(11, 'd'), (10, 'd'), (9, 'd')]\n",
    "h_play = [(7,'c'), (9, 'c'), (4, 'c')]\n",
    "war_cards = [(2, 'h'), (12, 'c'), (8, 'c'), (13, 'c'), (12, 'h'), (6, 'c')]\n",
    "\n",
    "update_winner(c_won, c_play, h_play, war_cards)\n",
    "print(c_won)\n",
    "print()"
   ]
  },
  {
   "cell_type": "code",
   "execution_count": 26,
   "metadata": {},
   "outputs": [
    {
     "name": "stdout",
     "output_type": "stream",
     "text": [
      "Kortene er blandet. La spillet begynne!\n",
      "Runde 0. Det er straigt mot straigt.\n",
      "Ingen vant runden\n",
      "Det ligger 6 på bordet.\n",
      "Runde 1. Det er ingenting mot ingenting.\n",
      "Ingen vant runden\n",
      "Det ligger 12 på bordet.\n",
      "Runde 2. Det er ingenting mot par.\n",
      "Datamaskinen vant runden!\n",
      "Runde 3. Feil antall kort. Prøv på nytt!\n",
      "Det er par mot straigt.\n",
      "Datamaskinen vant runden!\n",
      "Runde 4. Det er ingenting mot ingenting.\n",
      "Ingen vant runden\n",
      "Det ligger 6 på bordet.\n",
      "Du vant 0 kort. Datamaskinen vant 24 kort.\n",
      "Datamaskinen vant sammenlagt.\n"
     ]
    }
   ],
   "source": [
    "def main():\n",
    "    deck = new_deck()\n",
    "    shuffle(deck)\n",
    "    print(\"Kortene er blandet. La spillet begynne!\")\n",
    "    \n",
    "    c_won, h_won, war_cards = [], [], []\n",
    "\n",
    "    for runde_nummer in range(8):\n",
    "        kort_spiller, kort_datamaskin = [], []\n",
    "        \n",
    "        # Trekk kort til spillere\n",
    "        for _ in range(5):\n",
    "            if deck:\n",
    "                kort_spiller.append(deck.pop(0))\n",
    "            if deck:\n",
    "                kort_datamaskin.append(deck.pop(0))\n",
    "        if not deck:\n",
    "            break\n",
    "\n",
    "        print(f\"Runde {runde_nummer}. \", end=\"\")\n",
    "        h_play, c_play = human_play(kort_spiller), computer_play(kort_datamaskin)\n",
    "        human_score, computer_score = evaluate_play(h_play), evaluate_play(c_play)\n",
    "\n",
    "        hand_types = {\n",
    "            6: \"straight flush\", 5: \"tre like\", 4: \"straigt\",\n",
    "            3: \"flush\", 2: \"par\", 1: \"ingenting\", 0: \"ingenting\"\n",
    "        }\n",
    "        human_result, computer_result = hand_types[human_score], hand_types[computer_score]\n",
    "\n",
    "        print(f\"Det er {human_result} mot {computer_result}.\")\n",
    "        if human_score > computer_score:\n",
    "            print(\"Du vant runden!\")\n",
    "            update_winner(h_won, h_play, c_play, war_cards)\n",
    "        elif human_score < computer_score:\n",
    "            print(\"Datamaskinen vant runden!\")\n",
    "            update_winner(c_won, c_play, h_play, war_cards)\n",
    "        else:\n",
    "            print(\"Ingen vant runden\")\n",
    "            war_cards.extend(h_play + c_play)\n",
    "            h_play.clear()\n",
    "            c_play.clear()\n",
    "            print(f\"Det ligger {len(war_cards)} på bordet.\")\n",
    "\n",
    "    h_num, c_num = len(h_won), len(c_won)\n",
    "    print(f\"Du vant {h_num} kort. Datamaskinen vant {c_num} kort.\")\n",
    "    if h_num > c_num:\n",
    "        print(\"Du vant sammenlagt.\")\n",
    "    elif h_num < c_num:\n",
    "        print(\"Datamaskinen vant sammenlagt.\")\n",
    "    else:\n",
    "        print(\"Uavgjort\")\n",
    "\n",
    "\n",
    "main()"
   ]
  },
  {
   "cell_type": "markdown",
   "metadata": {},
   "source": [
    "# Oppgave 2"
   ]
  },
  {
   "cell_type": "code",
   "execution_count": 27,
   "metadata": {},
   "outputs": [
    {
     "name": "stdout",
     "output_type": "stream",
     "text": [
      "True\n"
     ]
    }
   ],
   "source": [
    "def check_across_div(num1, num2):\n",
    "    sum = 0\n",
    "    for letter in str(num1):\n",
    "        sum += int(letter)\n",
    "\n",
    "    if sum % num2 == 0:\n",
    "        return True\n",
    "    else: \n",
    "        return False\n",
    "\n",
    "\n",
    "print(check_across_div(123,3))\n"
   ]
  },
  {
   "cell_type": "code",
   "execution_count": 28,
   "metadata": {},
   "outputs": [
    {
     "name": "stdout",
     "output_type": "stream",
     "text": [
      "['1', '2', '3', '4', '5', '8', '9']\n"
     ]
    }
   ],
   "source": [
    "def pick_num_string(txt):\n",
    "    numbers = set()\n",
    "    for symbol in txt:\n",
    "        if symbol.isdigit():\n",
    "            numbers.add(symbol)\n",
    "\n",
    "    new_list = list(numbers)\n",
    "    new_list.sort()\n",
    "    return new_list\n",
    "\n",
    "txt='948ugj23dsfh34hgf834nsd321395j'\n",
    "\n",
    "print(pick_num_string(txt))"
   ]
  },
  {
   "cell_type": "code",
   "execution_count": 29,
   "metadata": {},
   "outputs": [
    {
     "name": "stdout",
     "output_type": "stream",
     "text": [
      "{'PS2': ['Gran Turismo 4', 'Final Fantasy X', 'Ico', 'SSX', 'Okami', 'Shadow of the Colossus'], 'GameCube': ['Metroid Prime', 'Resident Evil 4', 'Super Mario Sunshine', 'Mario Kart:Double Dash!', 'Super Smash Bros.Melee'], 'XBOX': ['Halo:Combat Evolved', 'Project Gotham Racing', 'Fable', 'Halo 2']}\n"
     ]
    }
   ],
   "source": [
    "def read_game_file(filename):\n",
    "    games = {}\n",
    "    with open(filename, \"r\") as file:\n",
    "        content = file.read()\n",
    "        content_list = content.split(\"\\n\")\n",
    "        for row in content_list:\n",
    "            row_list = row.split(\";\")\n",
    "            if row_list[0] in games.keys():\n",
    "                games[row_list[0]].extend(game for game in row_list[1:])\n",
    "            else:\n",
    "                games[row_list[0]] = row_list[1:]\n",
    "    print(games)\n",
    "\n",
    "read_game_file(\"gamefile.txt\")\n"
   ]
  },
  {
   "cell_type": "code",
   "execution_count": 30,
   "metadata": {},
   "outputs": [
    {
     "name": "stdout",
     "output_type": "stream",
     "text": [
      "Press enter without text on date to quit!\n"
     ]
    }
   ],
   "source": [
    "def write_diary(filename):\n",
    "    print(\"Press enter without text on date to quit!\")\n",
    "\n",
    "    with open(filename, \"a\") as file:\n",
    "        while True:\n",
    "            date = input(\"Date [dd.mm.yyyy]: \")\n",
    "            if date == \"\":\n",
    "                break\n",
    "\n",
    "            if not correct_date(date):\n",
    "                print(\"Incorrect date\")\n",
    "                continue\n",
    "            \n",
    "            subject = input(\"Subject: \")\n",
    "            if not subject:\n",
    "                print(\"Subject can't be empty!\")\n",
    "                continue\n",
    "\n",
    "            details = input(\"Details: \")\n",
    "\n",
    "            firstline = f\"{date}  {subject}\"\n",
    "            separator = \"\"\n",
    "            for i in range(len(firstline)):\n",
    "                separator += \"=\"\n",
    "            file.write(f\"{firstline}\\n{separator}\\n{details}\\n\\n\")\n",
    "\n",
    "from datetime import datetime\n",
    "def correct_date(date):\n",
    "    try:\n",
    "        parsed_date = datetime.strptime(date, \"%d.%m.%Y\")\n",
    "        if parsed_date.year > 2024:\n",
    "            return False\n",
    "        return True\n",
    "    except ValueError:\n",
    "        return False\n",
    " \n",
    "    \n",
    "\n",
    "write_diary(\"Halla.txt\")"
   ]
  }
 ],
 "metadata": {
  "kernelspec": {
   "display_name": "3.11.5",
   "language": "python",
   "name": "python3"
  },
  "language_info": {
   "codemirror_mode": {
    "name": "ipython",
    "version": 3
   },
   "file_extension": ".py",
   "mimetype": "text/x-python",
   "name": "python",
   "nbconvert_exporter": "python",
   "pygments_lexer": "ipython3",
   "version": "3.11.5"
  }
 },
 "nbformat": 4,
 "nbformat_minor": 2
}
