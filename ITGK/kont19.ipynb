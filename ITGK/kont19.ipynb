{
 "cells": [
  {
   "cell_type": "code",
   "execution_count": 2,
   "metadata": {},
   "outputs": [
    {
     "data": {
      "text/plain": [
       "['pannekaker: egg, mel, salt, melk\\n',\n",
       " 'grandiosa: grandiosa\\n',\n",
       " 'paprikasaus: sjalottløk, hvitløk, olje, buljong, smør, salt, pepper\\n',\n",
       " 'omelett: egg, vann, salt, smør, skinke, hvitost, paprika\\n']"
      ]
     },
     "execution_count": 2,
     "metadata": {},
     "output_type": "execute_result"
    }
   ],
   "source": [
    "def read_file(filename):\n",
    "    with open(filename, \"r\") as f:\n",
    "        return f.readlines()\n",
    "    \n",
    "read_file(\"food.txt\")"
   ]
  },
  {
   "cell_type": "code",
   "execution_count": 5,
   "metadata": {},
   "outputs": [
    {
     "data": {
      "text/plain": [
       "['pannekaker: egg', 'mel', 'salt', 'melk']"
      ]
     },
     "execution_count": 5,
     "metadata": {},
     "output_type": "execute_result"
    }
   ],
   "source": [
    "def fix_ingredients(string):\n",
    "    string = string.strip().split(\",\")\n",
    "    return [substring.strip() for substring in string]\n",
    "\n",
    "fix_ingredients('pannekaker: egg, mel, salt, melk\\n')"
   ]
  },
  {
   "cell_type": "code",
   "execution_count": 16,
   "metadata": {},
   "outputs": [
    {
     "name": "stdout",
     "output_type": "stream",
     "text": [
      "{'pannekaker': ['egg', 'mel', 'salt', 'melk'], 'grandiosa': ['grandiosa'], 'paprikasaus': ['sjalottløk', 'hvitløk', 'olje', 'buljong', 'smør', 'salt', 'pepper'], 'omelett': ['egg', 'vann', 'salt', 'smør', 'skinke', 'hvitost', 'paprika']}\n"
     ]
    }
   ],
   "source": [
    "def make_dict(foodlist):\n",
    "    dictonary = {}\n",
    "    ingredients = [fix_ingredients(food) for food in foodlist]\n",
    "    for ingredient in ingredients:\n",
    "        key_split = ingredient[0].split(\":\")\n",
    "        key = key_split[0]\n",
    "        first_ing = key_split[1].strip()\n",
    "        value = ingredient[1:]\n",
    "        value.insert(0,first_ing)\n",
    "        dictonary[key] = value\n",
    "    return dictonary\n",
    "mat = read_file('food.txt')\n",
    "food_dict = make_dict(mat)\n",
    "print(food_dict)\n"
   ]
  },
  {
   "cell_type": "code",
   "execution_count": 17,
   "metadata": {},
   "outputs": [
    {
     "name": "stdout",
     "output_type": "stream",
     "text": [
      "No dish called sylte\n"
     ]
    }
   ],
   "source": [
    "def print_recipe(food_dict, food):\n",
    "    if food in food_dict:\n",
    "        food_list = food_dict[food]\n",
    "        ingredients = \", \".join(food_list)\n",
    "        print(f\"{food} has {len(food_list)} ingredients: {ingredients}\")\n",
    "    else:\n",
    "        print(f\"No dish called {food}\")\n",
    "\n",
    "print_recipe(food_dict, \"sylte\")\n"
   ]
  },
  {
   "cell_type": "code",
   "execution_count": 21,
   "metadata": {},
   "outputs": [],
   "source": [
    "def all_recipes_with(food_dict):\n",
    "    recipies_with = {}\n",
    "    for dish, ingredients in food_dict.items():\n",
    "        for ingredient in ingredients:\n",
    "            if ingredient in recipies_with and dish not in recipies_with[ingredient]:\n",
    "                recipies_with[ingredient].append(dish)\n",
    "            elif ingredient not in recipies_with:\n",
    "                recipies_with[ingredient] = [dish]\n",
    "    return recipies_with\n",
    "\n",
    "recipe_dishes = all_recipes_with(food_dict)"
   ]
  },
  {
   "cell_type": "code",
   "execution_count": null,
   "metadata": {},
   "outputs": [
    {
     "name": "stdout",
     "output_type": "stream",
     "text": [
      "Today you'll be eating pannekaker\n",
      "pannekaker has 4 ingredients: egg, mel, salt, melk\n"
     ]
    }
   ],
   "source": [
    "food = recipe_dishes[\"egg\"][0]\n",
    "print(f\"Today you'll be eating {food}\")\n",
    "print_recipe(food_dict, food)"
   ]
  },
  {
   "cell_type": "code",
   "execution_count": 27,
   "metadata": {},
   "outputs": [
    {
     "name": "stdout",
     "output_type": "stream",
     "text": [
      "Den dyreste retten er paprikasaus som koster 31\n",
      "31\n"
     ]
    }
   ],
   "source": [
    "def value_food(food_dict):   \n",
    "    highscore = 0\n",
    "    most_expensive_ingredient = \"\"\n",
    "    vokal = \"aeiouyæøå\"\n",
    "    for key in food_dict.keys():\n",
    "        ingredient_score = 0\n",
    "        for letter in key:\n",
    "            if letter in vokal:\n",
    "                ingredient_score += 5\n",
    "            else:\n",
    "                ingredient_score += 1\n",
    "        if ingredient_score > highscore:\n",
    "            most_expensive_ingredient = key\n",
    "            highscore = ingredient_score\n",
    "    \n",
    "    print(f\"Den dyreste retten er {most_expensive_ingredient} som koster {highscore}\")\n",
    "\n",
    "value_food(food_dict)\n",
    "\n",
    "print(1+5+1+1+5+1+5+1+5+5+1)\n"
   ]
  },
  {
   "cell_type": "code",
   "execution_count": 29,
   "metadata": {},
   "outputs": [
    {
     "data": {
      "text/plain": [
       "'abcdefghjklmnopqrstuvwxyz'"
      ]
     },
     "execution_count": 29,
     "metadata": {},
     "output_type": "execute_result"
    }
   ],
   "source": [
    "tekst = 'abcdefijklmnopqrstuvwxyz'\n",
    "tekst = list(tekst)\n",
    "tekst[6:7] = ['g', 'h']\n",
    "tekst = ''.join(tekst)\n",
    "tekst\n"
   ]
  },
  {
   "cell_type": "code",
   "execution_count": 30,
   "metadata": {},
   "outputs": [
    {
     "name": "stdout",
     "output_type": "stream",
     "text": [
      "21\n"
     ]
    }
   ],
   "source": [
    "def myst5(hmm):\n",
    "    svar = 0\n",
    "    for x in range(1, len(hmm)-1):\n",
    "        if hmm[x-1] > hmm[x]:\n",
    "            svar = svar + int(hmm[x])\n",
    "    return svar\n",
    "\n",
    "print(myst5('19836565890'))"
   ]
  },
  {
   "cell_type": "code",
   "execution_count": 31,
   "metadata": {},
   "outputs": [
    {
     "name": "stdout",
     "output_type": "stream",
     "text": [
      "35\n",
      "35\n"
     ]
    }
   ],
   "source": [
    "def myst4(x, y):\n",
    "    tmp1 = 0\n",
    "    for a in x:\n",
    "        tmp2 = 0\n",
    "        for b in y:\n",
    "            if b > a:\n",
    "                tmp2 += b-a\n",
    "        tmp1 += tmp2\n",
    "    return tmp1\n",
    "\n",
    "print(myst4([0,1,2,3,4,5],[5,4,3,2,1,0]))\n",
    "\n",
    "print(35)"
   ]
  },
  {
   "cell_type": "code",
   "execution_count": 33,
   "metadata": {},
   "outputs": [
    {
     "name": "stdout",
     "output_type": "stream",
     "text": [
      "1\n",
      "4\n",
      "1\n",
      "2\n",
      "4\n"
     ]
    }
   ],
   "source": [
    "def myst3(a,b,c):\n",
    "    c += 1\n",
    "    if not a:\n",
    "        print(1)\n",
    "        return myst3(not a,b,c)\n",
    "    if (a and b):\n",
    "        print(2)\n",
    "        return c\n",
    "    elif (not a and not b):\n",
    "        print(3)\n",
    "        return myst3(not a, b, c)\n",
    "    elif (a and not b):\n",
    "        print(4)\n",
    "        return myst3(not a, not b, c)\n",
    "    else:\n",
    "        print(5)\n",
    "        return myst3(a, not b)\n",
    "    \n",
    "print(myst3(False, False, 0))"
   ]
  },
  {
   "cell_type": "code",
   "execution_count": 35,
   "metadata": {},
   "outputs": [
    {
     "name": "stdout",
     "output_type": "stream",
     "text": [
      "eksamen\n"
     ]
    }
   ],
   "source": [
    "def myst2_bonus(noe):\n",
    "    return \"\".join(noe[::-1])\n",
    "\n",
    "def myst2(str):\n",
    "    tmp = []\n",
    "    for c in str:\n",
    "        if ord(c) >= ord('a'):\n",
    "            tmp.append(chr(ord(c)-1))\n",
    "    return myst2_bonus(tmp)\n",
    "\n",
    "print(myst2('o4f5n6b7t8l9f'))"
   ]
  },
  {
   "cell_type": "code",
   "execution_count": 36,
   "metadata": {},
   "outputs": [
    {
     "name": "stdout",
     "output_type": "stream",
     "text": [
      "32\n"
     ]
    }
   ],
   "source": [
    "def myst(a, b):\n",
    "    if a > b:\n",
    "        return a\n",
    "    else:\n",
    "        a *= -2\n",
    "        return myst(a,b)\n",
    "    \n",
    "print(myst(-1, 8))"
   ]
  },
  {
   "cell_type": "code",
   "execution_count": 43,
   "metadata": {},
   "outputs": [
    {
     "name": "stdout",
     "output_type": "stream",
     "text": [
      "2\n"
     ]
    }
   ],
   "source": [
    "def skjekk_list(liste):\n",
    "    sum = 0 \n",
    "    for i in range(len(liste)):\n",
    "        tall = liste[i]\n",
    "        if tall == 0:\n",
    "            return sum\n",
    "        if tall < sum:\n",
    "            return 0\n",
    "        if tall == sum:\n",
    "            return 2\n",
    "        sum += tall\n",
    "    return tall\n",
    "\n",
    "print(skjekk_list([1,2,3,4,12,17]))"
   ]
  },
  {
   "cell_type": "code",
   "execution_count": 51,
   "metadata": {},
   "outputs": [
    {
     "name": "stdout",
     "output_type": "stream",
     "text": [
      "2\n"
     ]
    }
   ],
   "source": [
    "def tall_i_streng(streng, tall):\n",
    "    antall = 0\n",
    "    while len(streng) > 0:\n",
    "        hvor  =streng.find(str(tall))\n",
    "        if hvor == -1:\n",
    "            return antall\n",
    "        antall += 1\n",
    "        streng = streng[hvor+len(str(tall)):]\n",
    "    return antall\n",
    "\n",
    "print(tall_i_streng(\"1211121211\",11))"
   ]
  },
  {
   "cell_type": "code",
   "execution_count": 53,
   "metadata": {},
   "outputs": [
    {
     "name": "stdout",
     "output_type": "stream",
     "text": [
      "Error 68\n",
      "1.3\n",
      "Error 67\n",
      "Error 68\n",
      "Error 66\n",
      "3.3\n",
      "1.1\n"
     ]
    }
   ],
   "source": [
    "def fnum(filename, data, col):\n",
    "    try:\n",
    "        with open(filename) as f:\n",
    "            for line in f:\n",
    "                L = line.split()\n",
    "                if L[0] == data:\n",
    "                    return float(L[col])\n",
    "        return 'Error 66'\n",
    "    except FileNotFoundError:\n",
    "        return 'Error 67'\n",
    "    except:\n",
    "        return 'Error 68'\n",
    "\n",
    "filx = 'x.txt'\n",
    "FILyy = 'YY.txt'\n",
    "T,P,R,H = 'T', 'P', 'R', 'H'\n",
    "\n",
    "print(fnum(filx, R, 3))## error 68\n",
    "print(fnum(filx, P, -1)) # 1.3\n",
    "print(fnum(FILyy, T, 1)) # error 67\n",
    "print(fnum(filx, P, 2.0)) # error 68\n",
    "print(fnum(filx, H, 0)) # error 66\n",
    "print(fnum(filx, T, -1)) # 3.3\n",
    "print(fnum(filx, P, 1)) # 1.1\n"
   ]
  },
  {
   "cell_type": "code",
   "execution_count": 55,
   "metadata": {},
   "outputs": [
    {
     "name": "stdout",
     "output_type": "stream",
     "text": [
      "[[3, 1, 4, 0, 0], [9, 8, 7, 6, 5], [1, 2, 3, 4, 5], [1, 1, 2, 3, 5]]\n",
      "[[3, 1, 4], [9, 8, 7, 6, 5], [1, 2, 3, 4, 5], [1, 1, 2, 3, 5, 8, 13, 21]]\n",
      "[[3, 1, 4, 0, 0], [9, 8, 7, 6, 5], [1, 2, 3, 4, 5], [1, 1, 2, 3, 5]]\n"
     ]
    }
   ],
   "source": [
    "def adjust_lists(L, length):\n",
    "    for i in range(len(L)):\n",
    "        if len(L[i]) < length:\n",
    "            L[i] += [0] * (length - len(L[i]))\n",
    "        else:\n",
    "            del L[i][length:]\n",
    "            \n",
    "\n",
    "def lists_adjusted(L, length):\n",
    "    new_L = []\n",
    "    for lst in L:\n",
    "        if len(lst) >= length:\n",
    "            new_L.append(lst[:length])\n",
    "        else:\n",
    "            new_L.append(lst + [0]* (length - len(lst)))\n",
    "    return new_L\n",
    "\n",
    "L = [[3,1,4],[9,8,7,6,5],[1,2,3,4,5],[1,1,2,3,5,8,13,21]]\n",
    "\n",
    "print(lists_adjusted(L,5))\n",
    "print(L)\n",
    "adjust_lists(L,5)\n",
    "print(L)\n",
    "\n",
    "\n"
   ]
  }
 ],
 "metadata": {
  "kernelspec": {
   "display_name": "3.11.5",
   "language": "python",
   "name": "python3"
  },
  "language_info": {
   "codemirror_mode": {
    "name": "ipython",
    "version": 3
   },
   "file_extension": ".py",
   "mimetype": "text/x-python",
   "name": "python",
   "nbconvert_exporter": "python",
   "pygments_lexer": "ipython3",
   "version": "3.11.5"
  }
 },
 "nbformat": 4,
 "nbformat_minor": 2
}
