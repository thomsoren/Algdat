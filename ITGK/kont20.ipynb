{
 "cells": [
  {
   "cell_type": "markdown",
   "metadata": {},
   "source": [
    "## Oppgave 2"
   ]
  },
  {
   "cell_type": "code",
   "execution_count": 18,
   "metadata": {},
   "outputs": [
    {
     "name": "stdout",
     "output_type": "stream",
     "text": [
      "[7, 4, 3]\n"
     ]
    }
   ],
   "source": [
    "def home_draw_away(matches):\n",
    "    score = {}\n",
    "    for letter in matches:\n",
    "        letter = letter.upper()\n",
    "        if letter != 'H' and letter != 'U' and letter != 'B':\n",
    "            continue\n",
    "        if letter in score.keys():\n",
    "            score[letter] += 1\n",
    "        else:\n",
    "            score[letter] = 1\n",
    "    return [value for value in score.values()]\n",
    "\n",
    "matches1 = ('H', 'u', 'B', 'h', 'b', 'H', 'U', 'H', 'h', 'B', 'H', 'U', 'x', 'h', 'U')\n",
    "\n",
    "print(home_draw_away(matches1))\n"
   ]
  },
  {
   "cell_type": "code",
   "execution_count": 19,
   "metadata": {},
   "outputs": [
    {
     "name": "stdout",
     "output_type": "stream",
     "text": [
      "[1, 4, 6, 9, 12, 15, 18, 22, 25, 30, 33, 36, 40, 42, 44]\n"
     ]
    }
   ],
   "source": [
    "def pos_vocals(text):\n",
    "    vokaler = ['a', 'e', 'i', 'o', 'u', 'y', 'æ', 'ø', 'å']\n",
    "    result = [index for index, letter in enumerate(text) if letter.lower() in vokaler]\n",
    "    return result\n",
    "\n",
    "test = \"DettE er et eksempel pÅ lAng liste med vokaler\"\n",
    "print(pos_vocals(test))\n",
    "\n",
    "        \n"
   ]
  },
  {
   "cell_type": "code",
   "execution_count": 20,
   "metadata": {},
   "outputs": [
    {
     "name": "stdout",
     "output_type": "stream",
     "text": [
      "['er', 'tror', 'dette', 'greit', 'eller', 'det', 'jeg', 'ikke']\n"
     ]
    }
   ],
   "source": [
    "def unique(text):\n",
    "    text = text.replace(\",\", \"\").replace(\"?\",\"\").replace(\"!\",\"\").replace(\".\",\"\")\n",
    "    text = text.lower()\n",
    "    list_of_words = text.split()\n",
    "    unique = set(list_of_words)\n",
    "    return list(unique)\n",
    "\n",
    "print(unique(\"Er dette greit, eller er det ikke greit? Det er greit tror jeg!\"))"
   ]
  },
  {
   "cell_type": "code",
   "execution_count": 21,
   "metadata": {},
   "outputs": [
    {
     "ename": "IndexError",
     "evalue": "list index out of range",
     "output_type": "error",
     "traceback": [
      "\u001b[0;31m---------------------------------------------------------------------------\u001b[0m",
      "\u001b[0;31mIndexError\u001b[0m                                Traceback (most recent call last)",
      "Cell \u001b[0;32mIn[21], line 29\u001b[0m\n\u001b[1;32m     26\u001b[0m     \u001b[38;5;28mprint\u001b[39m(\u001b[38;5;124mf\u001b[39m\u001b[38;5;124m\"\u001b[39m\u001b[38;5;124mResult : \u001b[39m\u001b[38;5;132;01m{\u001b[39;00mresult\u001b[38;5;132;01m}\u001b[39;00m\u001b[38;5;124m\"\u001b[39m)\n\u001b[1;32m     28\u001b[0m \u001b[38;5;66;03m#23,5 + 3.14 - 5-9,8 + 12.95-5.3+13,95\u001b[39;00m\n\u001b[0;32m---> 29\u001b[0m \u001b[43mcalculate\u001b[49m\u001b[43m(\u001b[49m\u001b[43m)\u001b[49m\n",
      "Cell \u001b[0;32mIn[21], line 18\u001b[0m, in \u001b[0;36mcalculate\u001b[0;34m()\u001b[0m\n\u001b[1;32m     15\u001b[0m \u001b[38;5;28;01mif\u001b[39;00m number:\n\u001b[1;32m     16\u001b[0m     parts\u001b[38;5;241m.\u001b[39mappend(\u001b[38;5;28mfloat\u001b[39m(number))\n\u001b[0;32m---> 18\u001b[0m result \u001b[38;5;241m=\u001b[39m \u001b[43mparts\u001b[49m\u001b[43m[\u001b[49m\u001b[38;5;241;43m0\u001b[39;49m\u001b[43m]\u001b[49m\n\u001b[1;32m     19\u001b[0m \u001b[38;5;28;01mfor\u001b[39;00m i \u001b[38;5;129;01min\u001b[39;00m \u001b[38;5;28mrange\u001b[39m(\u001b[38;5;241m1\u001b[39m, \u001b[38;5;28mlen\u001b[39m(parts), \u001b[38;5;241m2\u001b[39m):\n\u001b[1;32m     20\u001b[0m     operand \u001b[38;5;241m=\u001b[39m parts[i]\n",
      "\u001b[0;31mIndexError\u001b[0m: list index out of range"
     ]
    }
   ],
   "source": [
    "def calculate():\n",
    "    equation = input(\"Enter calculation: \")\n",
    "    equation = equation.replace(\",\", \".\").replace(\" \", \"\")\n",
    "    number = \"\"\n",
    "    parts = []\n",
    "    # Lager liste med tall og operander\n",
    "    for char in equation:\n",
    "        if char in \"+-\":\n",
    "            if number:\n",
    "                parts.append(float(number))\n",
    "            parts.append(char)\n",
    "            number = \"\"\n",
    "        else:\n",
    "            number += char\n",
    "    if number:\n",
    "        parts.append(float(number))\n",
    "\n",
    "    result = parts[0]\n",
    "    for i in range(1, len(parts), 2):\n",
    "        operand = parts[i]\n",
    "        next_num = parts[i + 1]\n",
    "        if operand == \"+\":\n",
    "            result += next_num\n",
    "        else:\n",
    "            result -= next_num\n",
    "    print(f\"Result : {result}\")\n",
    "\n",
    "#23,5 + 3.14 - 5-9,8 + 12.95-5.3+13,95\n",
    "calculate()"
   ]
  },
  {
   "cell_type": "markdown",
   "metadata": {},
   "source": [
    "# Oppgave 3"
   ]
  },
  {
   "cell_type": "code",
   "execution_count": 43,
   "metadata": {},
   "outputs": [
    {
     "data": {
      "text/plain": [
       "'12:04'"
      ]
     },
     "execution_count": 43,
     "metadata": {},
     "output_type": "execute_result"
    }
   ],
   "source": [
    "#Tittel; Artist; Sjanger; Lengde (i formatet min:sek)\n",
    "\n",
    "def sec_to_time(s):\n",
    "    time = s // 3600\n",
    "    minut = (s % 3600) // 60\n",
    "    sekund = (s % 3600) % 60\n",
    "\n",
    "\n",
    "    time_str = str(time)\n",
    "    if sekund < 10:\n",
    "        sekund_str = \"0\" + str(sekund)\n",
    "    else:\n",
    "        sekund_str = str(sekund)\n",
    "\n",
    "    if time >= 1:\n",
    "        if minut < 10:\n",
    "            minut_str = \"0\" + str(minut)\n",
    "        return f\"{time}:{minut_str}:{sekund_str}\"\n",
    "    \n",
    "    if minut > 1:\n",
    "        return f\"{minut}:{sekund_str}\"\n",
    "    \n",
    "    return sekund_str\n",
    "\n",
    "sec_to_time(724)\n",
    "    \n",
    "    \n",
    "\n",
    "\n"
   ]
  },
  {
   "cell_type": "code",
   "execution_count": 23,
   "metadata": {},
   "outputs": [
    {
     "data": {
      "text/plain": [
       "4830"
      ]
     },
     "execution_count": 23,
     "metadata": {},
     "output_type": "execute_result"
    }
   ],
   "source": [
    "def time_to_sec(tstring):\n",
    "    time_list = tstring.split(\":\")\n",
    "    if len(time_list) == 3:\n",
    "        hour = time_list[0]\n",
    "        minute = time_list[1]\n",
    "        second = time_list[2]\n",
    "        return int(hour)*3600 + int(minute)*60 + int(second)\n",
    "    elif len(time_list) == 2:\n",
    "        minute = time_list[0]\n",
    "        second = time_list[1]\n",
    "        return int(minute)*60 + int(second)\n",
    "    elif len(time_list) == 1:\n",
    "        return int(tstring)\n",
    "    return 0 \n",
    "    \n",
    "time_to_sec(\"1:20:30\")\n",
    "\n",
    "        "
   ]
  },
  {
   "cell_type": "code",
   "execution_count": 24,
   "metadata": {},
   "outputs": [
    {
     "name": "stdout",
     "output_type": "stream",
     "text": [
      "Enter song (Title;Artist;Genre;m:s)\n",
      "Ugyldige data! Formatet må være: Title;Artist;Genre;m:s\n",
      "Ugyldige data! Formatet må være: Title;Artist;Genre;m:s\n",
      "Ugyldige data! Formatet må være: Title;Artist;Genre;m:s\n",
      "Ugyldige data! Formatet må være: Title;Artist;Genre;m:s\n",
      "Ugyldige data! Formatet må være: Title;Artist;Genre;m:s\n"
     ]
    },
    {
     "data": {
      "text/plain": [
       "['t', 't', 't', '1:3']"
      ]
     },
     "execution_count": 24,
     "metadata": {},
     "output_type": "execute_result"
    }
   ],
   "source": [
    "def enter_song():\n",
    "    print(\"Enter song (Title;Artist;Genre;m:s)\")\n",
    "    while True:\n",
    "        song = input(\"> \")\n",
    "        song_info = song.split(\";\")\n",
    "        if len(song_info) != 4:\n",
    "            print(\"Ugyldige data! Formatet må være: Title;Artist;Genre;m:s\")\n",
    "            continue\n",
    "        \n",
    "        time = song_info[3].split(\":\")\n",
    "        if len(time) != 2:\n",
    "            print(\"Ugyldige data! Formatet må være: Title;Artist;Genre;m:s\")\n",
    "            continue\n",
    "        minutes = int(time[1])\n",
    "        seconds = int(time[0])\n",
    "        if seconds < 0 or seconds > 59 or minutes < 0:\n",
    "            print(\"Ugyldige data! Formatet må være: Title;Artist;Genre;m:s\")\n",
    "            continue\n",
    "\n",
    "        return [info for info in song_info]\n",
    "    \n",
    "\n",
    "    \n",
    "enter_song()"
   ]
  },
  {
   "cell_type": "code",
   "execution_count": 25,
   "metadata": {},
   "outputs": [
    {
     "name": "stdout",
     "output_type": "stream",
     "text": [
      "[['Spinning wheel', 'Blood,Sweat and Tears', 'Rock', '5:15'], ['In my life', 'The Beatles', 'Pop', '3:17'], ['Rock me baby', 'B.B. King', 'Blues', '3:28'], ['Waiting for Margaux', 'Al Stewart', 'Pop', '4:35'], ['Folsom Prison blues', 'Johnny Cash', 'Country', '2:42'], ['Turning of the tide', 'Richard Thompson', 'Pop', '2:58'], ['All around my hat', 'Steeleye Span', 'Folk', '4:09'], [\"Hell's bells\", 'AC/DC', 'Rock', '5:13']]\n"
     ]
    }
   ],
   "source": [
    "def read_file(filename):\n",
    "    with open(filename, \"r\") as f:\n",
    "        text = f.readlines()\n",
    "        result = []\n",
    "        for line in text:\n",
    "            song_info = [info for info in line.strip().split(\";\")]\n",
    "            result.append(song_info)\n",
    "        return result\n",
    "\n",
    "print(read_file(\"songlist.txt\"))"
   ]
  },
  {
   "cell_type": "code",
   "execution_count": 26,
   "metadata": {},
   "outputs": [
    {
     "data": {
      "text/plain": [
       "['Spinning wheel',\n",
       " 'In my life',\n",
       " 'Turning of the tide',\n",
       " 'Rock me baby',\n",
       " \"Hell's bells\",\n",
       " 'Folsom Prison blues',\n",
       " 'All around my hat',\n",
       " 'Waiting for Margaux']"
      ]
     },
     "execution_count": 26,
     "metadata": {},
     "output_type": "execute_result"
    }
   ],
   "source": [
    "def list_content(filename, choice):\n",
    "    songs = read_file(filename)\n",
    "    index = -1\n",
    "    if choice == \"title\":\n",
    "        index = 0\n",
    "    elif choice == \"artist\":\n",
    "        index = 1\n",
    "    elif choice == \"genre\":\n",
    "        index = 2\n",
    "    else:\n",
    "        return []\n",
    "    return list(set([song[index] for song in songs]))\n",
    "\n",
    "list_content('songlist.txt', 'title')"
   ]
  },
  {
   "cell_type": "code",
   "execution_count": 44,
   "metadata": {},
   "outputs": [
    {
     "data": {
      "text/plain": [
       "([['In my life', 'The Beatles', '3:17'],\n",
       "  ['Waiting for Margaux', 'Al Stewart', '4:35'],\n",
       "  ['Turning of the tide', 'Richard Thompson', '2:58']],\n",
       " '10:50')"
      ]
     },
     "execution_count": 44,
     "metadata": {},
     "output_type": "execute_result"
    }
   ],
   "source": [
    "def list_songs_genre(filename):\n",
    "    songs = read_file(filename)\n",
    "    genre = input(\"Choose genre [Blues,Country,Rock,Pop]: \")\n",
    "    result = [[song[0],song[1],song[3]] for song in songs if song[2] == genre]\n",
    "    time = 0\n",
    "    for song in result:\n",
    "        seconds = time_to_sec(song[2])\n",
    "        time += int(seconds)\n",
    "    if time <= 0:\n",
    "        time_str = \"0:0\"\n",
    "    else:\n",
    "        time_str = sec_to_time(time)\n",
    "    return (result, time_str)\n",
    "\n",
    "\n",
    "list_songs_genre(\"songlist.txt\")"
   ]
  },
  {
   "cell_type": "code",
   "execution_count": 83,
   "metadata": {},
   "outputs": [
    {
     "name": "stdout",
     "output_type": "stream",
     "text": [
      "Artist                    Title                              Time\n",
      "In my life                The Beatles                        3:17\n",
      "Waiting for Margaux       Al Stewart                         4:35\n",
      "Turning of the tide       Richard Thompson                   2:58\n",
      "\n",
      "Total time: 10:50\n"
     ]
    }
   ],
   "source": [
    "def pretty_print(filename):\n",
    "    songs_by_genre = list_songs_genre(filename)\n",
    "    print(f\"Artist{' '*20}Title{' '*30}Time\")\n",
    "    [print(f\"{song[0]}{' '*(26- len(song[0]))}{song[1]}{' '*(35 - len(song[1]))}{song[2]}\") for song in songs_by_genre[0]] \n",
    "    print(f\"\\nTotal time: {songs_by_genre[1]}\")\n",
    "\n",
    "pretty_print(\"songlist.txt\")"
   ]
  },
  {
   "cell_type": "code",
   "execution_count": null,
   "metadata": {},
   "outputs": [
    {
     "name": "stdout",
     "output_type": "stream",
     "text": [
      "Enter song (Title;Artist;Genre;m:s)\n",
      "alksdjf was added to songlist.txt\n"
     ]
    }
   ],
   "source": [
    "def add_song_to_file(filename):\n",
    "    song = enter_song()\n",
    "    with open(filename, \"a\") as f:\n",
    "        f.write(\";\".join(song))\n",
    "        print(f\"{song[0]} was added to {filename}\")\n",
    "add_song_to_file(\"songlist.txt\")"
   ]
  }
 ],
 "metadata": {
  "kernelspec": {
   "display_name": "3.11.5",
   "language": "python",
   "name": "python3"
  },
  "language_info": {
   "codemirror_mode": {
    "name": "ipython",
    "version": 3
   },
   "file_extension": ".py",
   "mimetype": "text/x-python",
   "name": "python",
   "nbconvert_exporter": "python",
   "pygments_lexer": "ipython3",
   "version": "3.11.5"
  }
 },
 "nbformat": 4,
 "nbformat_minor": 2
}
