{
 "cells": [
  {
   "cell_type": "markdown",
   "metadata": {},
   "source": [
    "# Oppgave 2"
   ]
  },
  {
   "cell_type": "code",
   "execution_count": 1,
   "metadata": {},
   "outputs": [
    {
     "name": "stdout",
     "output_type": "stream",
     "text": [
      "18\n"
     ]
    }
   ],
   "source": [
    "liste = [1,2,3,4,5]\n",
    "liste.append(6)\n",
    "liste.reverse()\n",
    "liste = liste[:3]\n",
    "liste[2] = 7\n",
    "\n",
    "print(sum(liste))"
   ]
  },
  {
   "cell_type": "code",
   "execution_count": 2,
   "metadata": {},
   "outputs": [
    {
     "name": "stdout",
     "output_type": "stream",
     "text": [
      "0\n",
      "-1\n"
     ]
    }
   ],
   "source": [
    "def foo(l1,l2):\n",
    "    x = 0\n",
    "    for i in range(len(l1)):\n",
    "        if l1[i] > l2[i]:\n",
    "            x += 1\n",
    "        else:\n",
    "            x -= 1\n",
    "    return x\n",
    "\n",
    "print(foo('abcd','dcba'))\n",
    "print(foo([1,2,3,4,5], [5,4,3,2,1]))"
   ]
  },
  {
   "cell_type": "code",
   "execution_count": 4,
   "metadata": {},
   "outputs": [
    {
     "name": "stdout",
     "output_type": "stream",
     "text": [
      "5\n"
     ]
    },
    {
     "ename": "TypeError",
     "evalue": "'NoneType' object is not subscriptable",
     "output_type": "error",
     "traceback": [
      "\u001b[0;31m---------------------------------------------------------------------------\u001b[0m",
      "\u001b[0;31mTypeError\u001b[0m                                 Traceback (most recent call last)",
      "Cell \u001b[0;32mIn[4], line 7\u001b[0m\n\u001b[1;32m      4\u001b[0m     \u001b[38;5;28;01mreturn\u001b[39;00m a\u001b[38;5;241m.\u001b[39mreverse()[b]\n\u001b[1;32m      6\u001b[0m \u001b[38;5;28mprint\u001b[39m(foo([\u001b[38;5;241m1\u001b[39m,\u001b[38;5;241m2\u001b[39m,\u001b[38;5;241m3\u001b[39m,\u001b[38;5;241m4\u001b[39m,\u001b[38;5;241m5\u001b[39m],\u001b[38;5;241m4\u001b[39m))\n\u001b[0;32m----> 7\u001b[0m \u001b[38;5;28mprint\u001b[39m(\u001b[43mfoo\u001b[49m\u001b[43m(\u001b[49m\u001b[43m[\u001b[49m\u001b[38;5;241;43m1\u001b[39;49m\u001b[43m,\u001b[49m\u001b[38;5;241;43m2\u001b[39;49m\u001b[43m,\u001b[49m\u001b[38;5;241;43m3\u001b[39;49m\u001b[43m,\u001b[49m\u001b[38;5;241;43m4\u001b[39;49m\u001b[43m,\u001b[49m\u001b[38;5;241;43m5\u001b[39;49m\u001b[43m]\u001b[49m\u001b[43m,\u001b[49m\u001b[38;5;241;43m6\u001b[39;49m\u001b[43m)\u001b[49m)\n\u001b[1;32m      9\u001b[0m \u001b[38;5;66;03m# NoneType ikke Index out of bounds fordi .revese() returner None fordi den reverserer listen inplace og returnerer ingenting\u001b[39;00m\n",
      "Cell \u001b[0;32mIn[4], line 4\u001b[0m, in \u001b[0;36mfoo\u001b[0;34m(a, b)\u001b[0m\n\u001b[1;32m      2\u001b[0m \u001b[38;5;28;01mif\u001b[39;00m \u001b[38;5;28mlen\u001b[39m(a) \u001b[38;5;241m>\u001b[39m b:\n\u001b[1;32m      3\u001b[0m     \u001b[38;5;28;01mreturn\u001b[39;00m a[b]\n\u001b[0;32m----> 4\u001b[0m \u001b[38;5;28;01mreturn\u001b[39;00m \u001b[43ma\u001b[49m\u001b[38;5;241;43m.\u001b[39;49m\u001b[43mreverse\u001b[49m\u001b[43m(\u001b[49m\u001b[43m)\u001b[49m\u001b[43m[\u001b[49m\u001b[43mb\u001b[49m\u001b[43m]\u001b[49m\n",
      "\u001b[0;31mTypeError\u001b[0m: 'NoneType' object is not subscriptable"
     ]
    }
   ],
   "source": [
    "def foo(a, b):\n",
    "    if len(a) > b:\n",
    "        return a[b]\n",
    "    return a.reverse()[b]\n",
    "\n",
    "print(foo([1,2,3,4,5],4))\n",
    "print(foo([1,2,3,4,5],6))\n",
    "\n",
    "# NoneType ikke Index out of bounds fordi .revese() returner None fordi den reverserer listen inplace og returnerer ingenting"
   ]
  },
  {
   "cell_type": "code",
   "execution_count": 5,
   "metadata": {},
   "outputs": [
    {
     "name": "stdout",
     "output_type": "stream",
     "text": [
      "3\n"
     ]
    }
   ],
   "source": [
    "def streng_beregning(streng):\n",
    "    starttegn = streng[0]\n",
    "    antall = -1\n",
    "    for tegn in streng:\n",
    "        if tegn == starttegn:\n",
    "            antall += 1\n",
    "    return antall\n",
    "print(streng_beregning(\"ascbasbasacc\"))"
   ]
  },
  {
   "cell_type": "code",
   "execution_count": 7,
   "metadata": {},
   "outputs": [
    {
     "name": "stdout",
     "output_type": "stream",
     "text": [
      "2\n",
      "5\n"
     ]
    }
   ],
   "source": [
    "def foo(bar, x):\n",
    "    if not bar: return 0\n",
    "    return int(x) + foo(bar[1+int(x):],bar[0])\n",
    "\n",
    "print(foo(\"101\",\"1\"))\n",
    "print(foo(\"100110101011\", \"0\"))"
   ]
  },
  {
   "cell_type": "markdown",
   "metadata": {},
   "source": [
    "# Les Meteoritter"
   ]
  },
  {
   "cell_type": "code",
   "execution_count": 29,
   "metadata": {},
   "outputs": [
    {
     "data": {
      "text/plain": [
       "[['Aachen', '1', 'L5', 21.0, 1880, '50.775', '6.08333'],\n",
       " ['Aarhus', '2', 'H6', 720.0, 1951, '56.18333', '10.23333'],\n",
       " ['Abee', '6', 'EH4', 107000.0, 1952, '54.21667', '-113.0'],\n",
       " ['Acapulco', '10', 'Acapulcoite', 1914.0, 1976, '16.88333', '-99.9'],\n",
       " ['Akyumak', '433', 'Iron', 50000.0, 1981, '39.91667', '42.81667']]"
      ]
     },
     "execution_count": 29,
     "metadata": {},
     "output_type": "execute_result"
    }
   ],
   "source": [
    "def les_meteoritter(filnavn):\n",
    "    with open(filnavn, \"r\") as f:\n",
    "        lines = f.readlines()\n",
    "        meteoritter = []\n",
    "        for line in lines:\n",
    "            new_list = line.strip().split(\",\")\n",
    "\n",
    "            if '\"' in new_list[2]:\n",
    "                new_list[2] = new_list[2].replace('\"', '')\n",
    "                new_list.pop(3)\n",
    "\n",
    "            if new_list[0] == \"name\":\n",
    "                continue\n",
    "\n",
    "            if not new_list[3]:\n",
    "                new_list[3] = 0\n",
    "\n",
    "            new_list[3] = float(new_list[3])\n",
    "            new_list[4] = int(new_list[4])\n",
    "            meteoritter.append(new_list)\n",
    "        return meteoritter\n",
    "    \n",
    "les_meteoritter(\"meteoritter.csv\")"
   ]
  },
  {
   "cell_type": "code",
   "execution_count": 36,
   "metadata": {},
   "outputs": [
    {
     "data": {
      "text/plain": [
       "{'L5': 21.0,\n",
       " 'H6': 720.0,\n",
       " 'EH4': 107000.0,\n",
       " 'Acapulcoite': 1914.0,\n",
       " 'Iron': 50000.0}"
      ]
     },
     "execution_count": 36,
     "metadata": {},
     "output_type": "execute_result"
    }
   ],
   "source": [
    "def sorter_masse(nedslag, kolonne):\n",
    "    sortert = {}\n",
    "    if kolonne == \"name\":\n",
    "        col = 1\n",
    "    elif kolonne == \"class\":\n",
    "        col = 2\n",
    "    elif kolonne == \"year\":\n",
    "        col = 4\n",
    "    elif kolonne == \"latitude\":\n",
    "        col = 5\n",
    "    elif kolonne == \"longitude\":\n",
    "        col = 6\n",
    "\n",
    "    for i in range(len(nedslag)):\n",
    "        if nedslag[i][col] in sortert:\n",
    "            sortert[nedslag[i][col]] += nedslag[i][3]\n",
    "        else:\n",
    "            sortert[nedslag[i][col]] = nedslag[i][3]\n",
    "\n",
    "    return sortert\n",
    "\n",
    "sorter_masse(les_meteoritter(\"meteoritter.csv\"),'class')"
   ]
  },
  {
   "cell_type": "code",
   "execution_count": null,
   "metadata": {},
   "outputs": [],
   "source": [
    "import json\n",
    "\n",
    "def lagre_sortere_nedslag(sortert):\n",
    "    with open(\"sorterte_nedslag.json\", \"w\") as f:\n",
    "        json.dump(sortert, f, indent = 4)\n",
    "\n",
    "def hent_sorterte_nedslag():\n",
    "    with open(\"sorterte_nedslag.json\", \"r\") as f:\n",
    "        return json.load(f)\n",
    "\n",
    "sortert = sorter_masse(les_meteoritter(\"meteoritter.csv\"),'class')\n",
    "lagre_sortere_nedslag(sortert)\n",
    "\n",
    "nedslag_sortert = hent_sorterte_nedslag()"
   ]
  },
  {
   "cell_type": "code",
   "execution_count": 55,
   "metadata": {},
   "outputs": [
    {
     "name": "stdout",
     "output_type": "stream",
     "text": [
      "1952\n"
     ]
    }
   ],
   "source": [
    "highest = 0\n",
    "sortert = sorter_masse(les_meteoritter(\"meteoritter.csv\"),'year')\n",
    "lagre_sortere_nedslag(sortert)\n",
    "\n",
    "nedslag_sortert = hent_sorterte_nedslag()\n",
    "\n",
    "highest_key = []\n",
    "for key, value in nedslag_sortert.items():\n",
    "    if value > highest:\n",
    "        highest = value\n",
    "        highest_key = [key]\n",
    "    elif value == highest:\n",
    "        highest_key.append(key)\n",
    "\n",
    "for key in highest_key:\n",
    "    print(key)\n",
    "\n",
    "\n"
   ]
  }
 ],
 "metadata": {
  "kernelspec": {
   "display_name": "3.11.5",
   "language": "python",
   "name": "python3"
  },
  "language_info": {
   "codemirror_mode": {
    "name": "ipython",
    "version": 3
   },
   "file_extension": ".py",
   "mimetype": "text/x-python",
   "name": "python",
   "nbconvert_exporter": "python",
   "pygments_lexer": "ipython3",
   "version": "3.11.5"
  }
 },
 "nbformat": 4,
 "nbformat_minor": 2
}
