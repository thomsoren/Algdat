{
 "cells": [
  {
   "cell_type": "markdown",
   "metadata": {},
   "source": [
    "# Oppgave "
   ]
  },
  {
   "cell_type": "code",
   "execution_count": 1,
   "metadata": {},
   "outputs": [
    {
     "name": "stdout",
     "output_type": "stream",
     "text": [
      "3\n"
     ]
    }
   ],
   "source": [
    "def count_start_end_words(word_list, letter):\n",
    "    count = 0\n",
    "    for word in word_list:\n",
    "        if word[0] == letter and word[-1] == letter:\n",
    "            count += 1\n",
    "\n",
    "    return count\n",
    "\n",
    "word_list = [\"ada\", \"ida\", \"alta\", \"ana\", \"y\"]\n",
    "print(count_start_end_words(word_list, \"a\"))\n",
    "\n"
   ]
  },
  {
   "cell_type": "code",
   "execution_count": 13,
   "metadata": {},
   "outputs": [
    {
     "name": "stdout",
     "output_type": "stream",
     "text": [
      "[28, 30, 32, 25, 27, 29]\n"
     ]
    }
   ],
   "source": [
    "def letter_value(letter_list, letter):\n",
    "    for letter_row in letter_list:\n",
    "        if letter_row[0] == letter:\n",
    "            return letter_row[1:]\n",
    "    return []\n",
    "\n",
    "letter_list = [\n",
    "    ['e', 28, 30, 32, 25, 27, 29],\n",
    "    ['f', 23, 26, 22, 32, 21, 18, 19]\n",
    "]\n",
    "\n",
    "print(letter_value(letter_list, 'e'))  # Output: [28, 30, 32, 25, 27, "
   ]
  },
  {
   "cell_type": "code",
   "execution_count": 26,
   "metadata": {},
   "outputs": [
    {
     "name": "stdout",
     "output_type": "stream",
     "text": [
      "[['e', 28, 30, 32, 25, 27, 29, 23], ['f', 23, 26, 22, 32, 21, 18, 19]]\n"
     ]
    }
   ],
   "source": [
    "def add_letter_test(letter_list, letter, score):\n",
    "    letter_row = letter_value(letter_list, letter)\n",
    "    if letter_row == []:\n",
    "        letter_list.append([letter,score])\n",
    "    else:\n",
    "        for letter_row in letter_list:\n",
    "            if letter_row[0] == letter:\n",
    "                letter_row.append(score)\n",
    "    return letter_list\n",
    "\n",
    "letter_list = [\n",
    "    ['e', 28, 30, 32, 25, 27, 29],\n",
    "    ['f', 23, 26, 22, 32, 21, 18, 19]\n",
    "]\n",
    "\n",
    "print(add_letter_test(letter_list, \"e\", 23))\n",
    "\n"
   ]
  },
  {
   "cell_type": "code",
   "execution_count": null,
   "metadata": {},
   "outputs": [
    {
     "name": "stdout",
     "output_type": "stream",
     "text": [
      "Raskest for e er Børge, Sara med 18\n"
     ]
    }
   ],
   "source": [
    "\n",
    "def get_winners(user_data, sort_by, letter):\n",
    "    quickest = []\n",
    "    highscore = float('inf')\n",
    "    high_tries = 0\n",
    "    tried_most = []\n",
    "\n",
    "    for key, value in user_data.items():\n",
    "        letter_values = letter_value(value, letter)\n",
    "        high_tries_person = -1\n",
    "        for value in letter_values:\n",
    "            if sort_by == \"quickest\" and value < highscore:\n",
    "                highscore = value\n",
    "                quickest = [key]\n",
    "            elif sort_by == \"quickest\" and value == highscore:\n",
    "                quickest.append(key)\n",
    "            elif sort_by == \"most\":\n",
    "                high_tries_person +=1\n",
    "        if high_tries_person > high_tries:\n",
    "            high_tries = high_tries_person\n",
    "            tried_most = [key]\n",
    "        elif high_tries_person == high_tries:\n",
    "            tried_most.append(key)\n",
    "\n",
    "\n",
    "    if sort_by == \"quickest\":\n",
    "        quickest = \", \".join(quickest)\n",
    "        return f\"Raskest for {letter} er {quickest} med {highscore}\"\n",
    "    elif sort_by == \"most\":\n",
    "        return f\"Ivrigst for {letter} er {tried_most} med {high_tries} forsøk.\" \n",
    "\n",
    "user_data = {\n",
    "    'Børge': [\n",
    "        ['e', 23, 26, 22, 18],\n",
    "        ['f', 27, 19, 33, 28, 25, 21],\n",
    "        ['h', 25, 20],\n",
    "        ['g', 22, 27, 23, 26, 30],\n",
    "        ['i', 30, 18, 21, 29, 24, 19, 27],\n",
    "    ],\n",
    "    'Sara': [\n",
    "        ['e', 21, 18],\n",
    "        ['k', 31, 24, 20, 22, 26],\n",
    "        ['h', 19, 27, 28, 23],\n",
    "        ['r', 26, 30, 17],\n",
    "        ['i', 28, 31, 16, 24, 25, 29],\n",
    "    ],\n",
    "    'Lars': [\n",
    "        ['e', 28, 30, 32, 25, 27, 29],\n",
    "        ['f', 23, 26, 22, 32, 21, 18, 19],\n",
    "    ],\n",
    "}\n",
    "print(get_winners(user_data, \"quickest\", \"e\"))"
   ]
  },
  {
   "cell_type": "code",
   "execution_count": 34,
   "metadata": {},
   "outputs": [
    {
     "name": "stdout",
     "output_type": "stream",
     "text": [
      "['e', 23, 26, 22, 18]\n",
      "['f', 27, 19, 33, 28, 25, 21]\n",
      "['h', 25, 20]\n",
      "['g', 22, 27, 23, 26, 30]\n",
      "['i', 30, 18, 21, 29, 24, 19, 27]\n",
      "['e', 21, 18]\n",
      "['k', 31, 24, 20, 22, 26]\n",
      "['h', 19, 27, 28, 23]\n",
      "['r', 26, 30, 17]\n",
      "['i', 28, 31, 16, 24, 25, 29]\n",
      "['e', 28, 30, 32, 25, 27, 29]\n",
      "['f', 23, 26, 22, 32, 21, 18, 19]\n"
     ]
    }
   ],
   "source": [
    "def store_data(user_data):\n",
    "    with open(\"touch.txt\", \"w\") as f:\n",
    "        final_string = \"\"\n",
    "        all_letters = []\n",
    "        for key, value in user_data.items():\n",
    "            final_string += key + \"\\n\"\n",
    "            for val in value:\n",
    "                print(val)\n",
    "                all_letters.append(val[0])\n",
    "                values = val[1:]\n",
    "                num_str = \",\".join(map(str, values))\n",
    "                final_string+= str(val[0]) + \":\" + num_str + \"\\n\"\n",
    "            final_string += \"---\\n\" \n",
    "        all_letters = list(set(all_letters))\n",
    "        for letter in all_letters:\n",
    "            final_string += get_winners(user_data,\"quickest\", letter) + \"\\n\"\n",
    "        f.write(final_string)\n",
    "\n",
    "store_data(user_data)"
   ]
  }
 ],
 "metadata": {
  "kernelspec": {
   "display_name": "3.11.5",
   "language": "python",
   "name": "python3"
  },
  "language_info": {
   "codemirror_mode": {
    "name": "ipython",
    "version": 3
   },
   "file_extension": ".py",
   "mimetype": "text/x-python",
   "name": "python",
   "nbconvert_exporter": "python",
   "pygments_lexer": "ipython3",
   "version": "3.11.5"
  }
 },
 "nbformat": 4,
 "nbformat_minor": 2
}
