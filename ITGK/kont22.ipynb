{
 "cells": [
  {
   "cell_type": "markdown",
   "metadata": {},
   "source": [
    "# Oppgave 3"
   ]
  },
  {
   "cell_type": "code",
   "execution_count": 1,
   "metadata": {},
   "outputs": [
    {
     "data": {
      "text/plain": [
       "12"
      ]
     },
     "execution_count": 1,
     "metadata": {},
     "output_type": "execute_result"
    }
   ],
   "source": [
    "def sum_pos_odd(liste):\n",
    "    sum = 0\n",
    "    for num in liste:\n",
    "        if num > 0 and num % 2 == 0:\n",
    "            sum += num\n",
    "    return sum\n",
    "\n",
    "sum_pos_odd([2,-3,5,-1,7,6,4])"
   ]
  },
  {
   "cell_type": "code",
   "execution_count": 4,
   "metadata": {},
   "outputs": [
    {
     "data": {
      "text/plain": [
       "4"
      ]
     },
     "execution_count": 4,
     "metadata": {},
     "output_type": "execute_result"
    }
   ],
   "source": [
    "def longest_streak(streng, resultat):\n",
    "    longest_streak = 0\n",
    "    current_streak = 0\n",
    "    for letter in streng:\n",
    "        if letter == str(resultat):\n",
    "            current_streak += 1\n",
    "        else:\n",
    "            if current_streak > longest_streak:\n",
    "                longest_streak = current_streak\n",
    "            current_streak = 0\n",
    "    return longest_streak\n",
    "\n",
    "longest_streak(\"000111101333313003311111\",3)"
   ]
  },
  {
   "cell_type": "code",
   "execution_count": 8,
   "metadata": {},
   "outputs": [],
   "source": [
    "def co_location(L):\n",
    "    co_location = {}\n",
    "    for row in L:\n",
    "        location = (row[2],row[3])\n",
    "        person = [row[0],row[1]]\n",
    "        if location in co_location:\n",
    "            co_location[location].append(person)\n",
    "        else:\n",
    "            co_location[location] = [person]\n",
    "    return co_location\n",
    "        \n",
    "\n",
    "L = [ [ 'Anna', 12131415, 41.40309, 2.15203 ],\n",
    "[ 'Nils', 21222222, 63.40309, 5.19909 ],\n",
    "[ 'Don', 21558888, 63.40309, 5.19909 ],\n",
    "[ 'Lea', 77131415, 41.40309, 2.15203 ],\n",
    "[ 'Joe', 99131415, 25.22232, 19.33213 ] ]\n",
    "co_locations = co_location(L)"
   ]
  },
  {
   "cell_type": "code",
   "execution_count": null,
   "metadata": {},
   "outputs": [
    {
     "name": "stdout",
     "output_type": "stream",
     "text": [
      "Nearby persons: \n",
      "(41.40309, 2.15203):Anna(12131415);Lea(77131415);\n"
     ]
    }
   ],
   "source": [
    "missing = input(\"Name of missing person: \")\n",
    "lat = input(\"Latitude of last observation: \")\n",
    "long = input(\"Longitude of last observation: \")\n",
    "found = \"\"\n",
    "\n",
    "# find person within 0.00003 \n",
    "for key, value in co_locations.items():\n",
    "    if abs(float(key[0])-float(lat)) <= 0.00003 and abs(float(key[1])-float(long)) <= 0.00003:\n",
    "        found = f\"{key}: \"\n",
    "        for person in value:\n",
    "            found += f\"{person[0]}({person[1]}); \"\n",
    "        \n",
    "if len(found) > 0:\n",
    "    print(\"Nearby persons: \")\n",
    "    print(found)\n",
    "else:\n",
    "    print(\"No nearby persons\")\n",
    "\n"
   ]
  }
 ],
 "metadata": {
  "kernelspec": {
   "display_name": "3.11.5",
   "language": "python",
   "name": "python3"
  },
  "language_info": {
   "codemirror_mode": {
    "name": "ipython",
    "version": 3
   },
   "file_extension": ".py",
   "mimetype": "text/x-python",
   "name": "python",
   "nbconvert_exporter": "python",
   "pygments_lexer": "ipython3",
   "version": "3.11.5"
  }
 },
 "nbformat": 4,
 "nbformat_minor": 2
}
